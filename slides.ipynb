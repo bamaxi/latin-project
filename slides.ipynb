{
 "cells": [
  {
   "cell_type": "markdown",
   "metadata": {
    "slideshow": {
     "slide_type": "slide"
    }
   },
   "source": [
    "# Что бывает "
   ]
  },
  {
   "cell_type": "markdown",
   "metadata": {
    "slideshow": {
     "slide_type": "slide"
    }
   },
   "source": [
    "# Что бывает <br/> после латинских предлогов, управляющих аблативом"
   ]
  },
  {
   "cell_type": "markdown",
   "metadata": {
    "slideshow": {
     "slide_type": "slide"
    }
   },
   "source": [
    "# *Сгенерировать по два примера для каждой штуки на графике, и вставить в презу*"
   ]
  },
  {
   "cell_type": "markdown",
   "metadata": {
    "slideshow": {
     "slide_type": "slide"
    }
   },
   "source": [
    "### Задача\n",
    "\n",
    "Очевидно, что после предлогов 'a', 'ab', 'de', 'cum', 'ex', 'e', 'sine', 'pro', 'prae', управляющих аблативом может быть не аблатив\n",
    "\n",
    "Интересно собрать статистику, что же там бывает?"
   ]
  },
  {
   "cell_type": "markdown",
   "metadata": {
    "slideshow": {
     "slide_type": "slide"
    }
   },
   "source": [
    "### Приборы и материалы\n",
    "\n",
    "* CLTK\n",
    "\n",
    "![cltk1](images/cltk1.png)\\\n",
    "\n",
    "\n",
    "![cltk2](images/cltk2.png)\\\n"
   ]
  },
  {
   "cell_type": "markdown",
   "metadata": {
    "slideshow": {
     "slide_type": "slide"
    }
   },
   "source": [
    "### Приборы и материалы\n",
    "\n",
    "* Корпус perseus, встроенный в CLTK. \n",
    "\n",
    "Содержит 293 документа разного размера.\n"
   ]
  },
  {
   "cell_type": "markdown",
   "metadata": {
    "slideshow": {
     "slide_type": "slide"
    }
   },
   "source": [
    "### Приборы и материалы\n",
    "\n",
    "* Корпус perseus, встроенный в CLTK.\n",
    "\n",
    "Содержит 293 документа разного размера. Пригодились 276."
   ]
  },
  {
   "cell_type": "markdown",
   "metadata": {
    "slideshow": {
     "slide_type": "slide"
    }
   },
   "source": [
    "## Что получилось"
   ]
  },
  {
   "cell_type": "markdown",
   "metadata": {
    "slideshow": {
     "slide_type": "slide"
    }
   },
   "source": [
    "### Количество употреблений\n",
    "\n",
    "Всего хороших плохих вещей после какого-то из предлогов: **12129**\n",
    "\n",
    "Не считаются штуки без разбора (около 300). Это обычно одинокие буквы.\n",
    "\n",
    "В дальнейшем говорим именно о том слове, что после предлога"
   ]
  },
  {
   "cell_type": "markdown",
   "metadata": {
    "slideshow": {
     "slide_type": "slide"
    }
   },
   "source": [
    "### По частям речи\n",
    "\n",
    "![boxplot_posCount](graphics/boxplot_posCount.png){width=98%}"
   ]
  },
  {
   "cell_type": "markdown",
   "metadata": {
    "slideshow": {
     "slide_type": "slide"
    }
   },
   "source": [
    "### По авторам\n",
    "\n",
    "![boxplot_authorCount](graphics/boxplot_authorCount.png){ width=50% }\n",
    "\n",
    "<img href=\"graphics/boxplot_authorCount.png\" style=\"width: 50%;\" />\n"
   ]
  },
  {
   "cell_type": "markdown",
   "metadata": {
    "slideshow": {
     "slide_type": "slide"
    }
   },
   "source": [
    "### По авторам\n",
    "\n",
    "![boxplot_authorRatio](graphics/boxplot_authorRatio.png)\n"
   ]
  },
  {
   "cell_type": "markdown",
   "metadata": {
    "slideshow": {
     "slide_type": "slide"
    }
   },
   "source": [
    "## Подробнее:<br/> падежи\n",
    "\n",
    "# *???Данные про части речи после падежей??? (только склоняемые части речи?)*"
   ]
  },
  {
   "cell_type": "markdown",
   "metadata": {
    "slideshow": {
     "slide_type": "slide"
    }
   },
   "source": [
    "### Какие падежи бывают после наших предлогов?\n",
    "\n",
    "Актуально не для всех частей речи, только для:\n",
    "\n",
    "* существительных, местоимений\n",
    "* прилагательных, причастий"
   ]
  },
  {
   "cell_type": "markdown",
   "metadata": {
    "slideshow": {
     "slide_type": "slide"
    }
   },
   "source": [
    "### Какие падежи бывают после наших предлогов?\n",
    "\n",
    "\n",
    "![boxplot_caseBy_prep=all](graphics/boxplot_caseBy_prep=all.png)"
   ]
  },
  {
   "cell_type": "markdown",
   "metadata": {
    "slideshow": {
     "slide_type": "slide"
    }
   },
   "source": [
    "### Предлоги a, ab\n",
    "\n",
    "![boxplot_caseBy_prep=['a', 'ab']](graphics/boxplot_caseBy_prep=a,ab.png)\n"
   ]
  },
  {
   "cell_type": "markdown",
   "metadata": {
    "slideshow": {
     "slide_type": "slide"
    }
   },
   "source": [
    "### Предлоги e, ex\n",
    "\n",
    "![boxplot_caseBy_prep=['e', 'ex']](graphics/boxplot_caseBy_prep=e,ex.png)"
   ]
  },
  {
   "cell_type": "markdown",
   "metadata": {
    "slideshow": {
     "slide_type": "slide"
    }
   },
   "source": [
    "### Предлоги e, ex\n",
    "\n",
    "![boxplot_caseBy_prep=['e', 'ex']](graphics/boxplot_caseBy_prep=e,ex.png)"
   ]
  },
  {
   "cell_type": "markdown",
   "metadata": {
    "slideshow": {
     "slide_type": "slide"
    }
   },
   "source": [
    "### Предлог de\n",
    "\n",
    "![boxplot_caseBy_prep=de.png](graphics/boxplot_caseBy_prep=de.png)"
   ]
  },
  {
   "cell_type": "markdown",
   "metadata": {
    "slideshow": {
     "slide_type": "slide"
    }
   },
   "source": [
    "### Предлог cum\n",
    "\n",
    "![boxplot_caseBy_prep=['cum'].png](graphics/boxplot_caseBy_prep=['cum'].png)"
   ]
  },
  {
   "cell_type": "markdown",
   "metadata": {
    "slideshow": {
     "slide_type": "slide"
    }
   },
   "source": [
    "### Предлог sine\n",
    "\n",
    "![boxplot_caseBy_prep=['sine'].png](graphics/boxplot_caseBy_prep=['sine'].png)"
   ]
  },
  {
   "cell_type": "markdown",
   "metadata": {
    "slideshow": {
     "slide_type": "slide"
    }
   },
   "source": [
    "### Предлог pro\n",
    "\n",
    "![boxplot_caseBy_prep=['pro'].png](graphics/boxplot_caseBy_prep=['pro'].png)"
   ]
  },
  {
   "cell_type": "markdown",
   "metadata": {
    "slideshow": {
     "slide_type": "slide"
    }
   },
   "source": [
    "### Предлог prae\n",
    "\n",
    "![boxplot_caseBy_prep=['prae'].png](graphics/boxplot_caseBy_prep=['prae'].png)"
   ]
  },
  {
   "cell_type": "markdown",
   "metadata": {
    "slideshow": {
     "slide_type": "slide"
    }
   },
   "source": [
    "## По частям речи"
   ]
  },
  {
   "cell_type": "markdown",
   "metadata": {
    "slideshow": {
     "slide_type": "slide"
    }
   },
   "source": [
    "### Существительное\n",
    "\n",
    "![boxplot_pos=noun_case.png](graphics/boxplot_pos=noun_case.png)"
   ]
  },
  {
   "cell_type": "markdown",
   "metadata": {
    "slideshow": {
     "slide_type": "slide"
    }
   },
   "source": [
    "### Местоимение\n",
    "![boxplot_pos=pronoun_case.png](graphics/boxplot_pos=pronoun_case.png)"
   ]
  },
  {
   "cell_type": "markdown",
   "metadata": {
    "slideshow": {
     "slide_type": "slide"
    }
   },
   "source": [
    "### Прилагательное\n",
    "![boxplot_pos=adjective_case.png](graphics/boxplot_pos=adjective_case.png)"
   ]
  },
  {
   "cell_type": "markdown",
   "metadata": {
    "slideshow": {
     "slide_type": "slide"
    }
   },
   "source": [
    "### Причастие\n",
    "![boxplot_pos=participle_case.png](graphics/boxplot_pos=participle_case.png)"
   ]
  },
  {
   "cell_type": "markdown",
   "metadata": {
    "slideshow": {
     "slide_type": "slide"
    }
   },
   "source": [
    "## Несклоняемые части речи"
   ]
  },
  {
   "cell_type": "markdown",
   "metadata": {
    "slideshow": {
     "slide_type": "slide"
    }
   },
   "source": [
    "### Несклоняемые части речи\n",
    "\n",
    "Здесь решил просто посмотреть самые частые леммы"
   ]
  },
  {
   "cell_type": "markdown",
   "metadata": {
    "slideshow": {
     "slide_type": "slide"
    }
   },
   "source": [
    "### Наречие\n",
    "\n",
    "![boxplot_lemmaCount_pos=adverb.png](graphics/boxplot_lemmaCount_pos=adverb.png)"
   ]
  },
  {
   "cell_type": "markdown",
   "metadata": {
    "slideshow": {
     "slide_type": "slide"
    }
   },
   "source": [
    "### Предлог \n",
    "\n",
    "![boxplot_lemmaCount_pos=preposition.png](graphics/boxplot_lemmaCount_pos=preposition.png)"
   ]
  },
  {
   "cell_type": "markdown",
   "metadata": {
    "slideshow": {
     "slide_type": "slide"
    }
   },
   "source": [
    "### Числительное\n",
    "\n",
    "![boxplot_lemmaCount_pos=numeral.png](graphics/boxplot_lemmaCount_pos=numeral.png)\\"
   ]
  },
  {
   "cell_type": "markdown",
   "metadata": {
    "slideshow": {
     "slide_type": "slide"
    }
   },
   "source": [
    "### Союзы\n",
    "\n",
    "![boxplot_lemmaCount_pos=conjunction.png](graphics/boxplot_lemmaCount_pos=conjunction.png)\\"
   ]
  },
  {
   "cell_type": "markdown",
   "metadata": {},
   "source": [
    "### Восклицание (междометие*)\n",
    "\n",
    "![boxplot_lemmaCount_pos=exclamation.png](graphics/boxplot_lemmaCount_pos=exclamation.png)\\"
   ]
  },
  {
   "cell_type": "markdown",
   "metadata": {
    "slideshow": {
     "slide_type": "slide"
    }
   },
   "source": [
    "### Знаки пунктуации\n",
    "\n",
    "![boxplot_lemmaCount_pos=punctuation.png](graphics/boxplot_lemmaCount_pos=punctuation.png)\\"
   ]
  },
  {
   "cell_type": "markdown",
   "metadata": {},
   "source": []
  },
  {
   "cell_type": "markdown",
   "metadata": {},
   "source": []
  },
  {
   "cell_type": "markdown",
   "metadata": {},
   "source": []
  },
  {
   "cell_type": "markdown",
   "metadata": {},
   "source": []
  },
  {
   "cell_type": "markdown",
   "metadata": {},
   "source": []
  },
  {
   "cell_type": "markdown",
   "metadata": {},
   "source": []
  },
  {
   "cell_type": "markdown",
   "metadata": {},
   "source": []
  },
  {
   "cell_type": "markdown",
   "metadata": {},
   "source": []
  }
 ],
 "metadata": {
  "kernelspec": {
   "display_name": "Python (cltk)",
   "language": "python",
   "name": "cltk_project"
  },
  "language_info": {
   "codemirror_mode": {
    "name": "ipython",
    "version": 3
   },
   "file_extension": ".py",
   "mimetype": "text/x-python",
   "name": "python",
   "nbconvert_exporter": "python",
   "pygments_lexer": "ipython3",
   "version": "3.7.1"
  }
 },
 "nbformat": 4,
 "nbformat_minor": 4
}
