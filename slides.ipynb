{
 "cells": [
  {
   "cell_type": "markdown",
   "metadata": {
    "slideshow": {
     "slide_type": "slide"
    }
   },
   "source": [
    "# Что бывает "
   ]
  },
  {
   "cell_type": "markdown",
   "metadata": {
    "slideshow": {
     "slide_type": "slide"
    }
   },
   "source": [
    "# Что бывает <br/> после латинских предлогов, управляющих аблативом"
   ]
  },
  {
   "cell_type": "markdown",
   "metadata": {
    "slideshow": {
     "slide_type": "slide"
    }
   },
   "source": [
    "# *Сгенерировать по два примера для каждой штуки на графике, и вставить в презу*"
   ]
  },
  {
   "cell_type": "markdown",
   "metadata": {
    "slideshow": {
     "slide_type": "slide"
    }
   },
   "source": [
    "### Задача\n",
    "\n",
    "Очевидно, что после предлогов 'a', 'ab', 'de', 'cum', 'ex', 'e', 'sine', 'pro', 'prae', управляющих аблативом может быть не аблатив\n",
    "\n",
    "Интересно собрать статистику, что же там бывает?"
   ]
  },
  {
   "cell_type": "markdown",
   "metadata": {
    "slideshow": {
     "slide_type": "slide"
    }
   },
   "source": [
    "### Приборы и материалы\n",
    "\n",
    "* CLTK\n",
    "\n",
    "![cltk1](images/cltk1.png)\\\n",
    "\n",
    "\n",
    "![cltk2](images/cltk2.png)\\\n"
   ]
  },
  {
   "cell_type": "markdown",
   "metadata": {
    "slideshow": {
     "slide_type": "slide"
    }
   },
   "source": [
    "### Приборы и материалы\n",
    "\n",
    "* Корпус perseus, встроенный в CLTK. \n",
    "\n",
    "Содержит 293 документа разного размера.\n"
   ]
  },
  {
   "cell_type": "markdown",
   "metadata": {
    "slideshow": {
     "slide_type": "slide"
    }
   },
   "source": [
    "### Приборы и материалы\n",
    "\n",
    "* Корпус perseus, встроенный в CLTK.\n",
    "\n",
    "Содержит 293 документа разного размера. Пригодились 276."
   ]
  },
  {
   "cell_type": "markdown",
   "metadata": {
    "slideshow": {
     "slide_type": "slide"
    }
   },
   "source": [
    "## Что получилось"
   ]
  },
  {
   "cell_type": "markdown",
   "metadata": {
    "slideshow": {
     "slide_type": "slide"
    }
   },
   "source": [
    "### Количество употреблений\n",
    "\n",
    "Всего хороших плохих вещей после какого-то из предлогов: **12129**\n",
    "\n",
    "Не считаются штуки без разбора (около 300). Это обычно одинокие буквы.\n",
    "\n",
    "В дальнейшем говорим именно о том слове, что после предлога"
   ]
  },
  {
   "cell_type": "markdown",
   "metadata": {
    "slideshow": {
     "slide_type": "slide"
    }
   },
   "source": [
    "### По частям речи\n",
    "\n",
    "![boxplot_posCount](graphics/boxplot_posCount.png){width=98%}"
   ]
  },
  {
   "cell_type": "markdown",
   "metadata": {
    "slideshow": {
     "slide_type": "slide"
    }
   },
   "source": [
    "### По авторам\n",
    "\n",
    "![boxplot_authorCount](graphics/boxplot_authorCount.png){ width=50% }\n",
    "\n",
    "<img href=\"graphics/boxplot_authorCount.png\" style=\"width: 50%;\" />\n"
   ]
  },
  {
   "cell_type": "markdown",
   "metadata": {
    "slideshow": {
     "slide_type": "slide"
    }
   },
   "source": [
    "### По авторам\n",
    "\n",
    "![boxplot_authorRatio](graphics/boxplot_authorRatio.png)\n"
   ]
  },
  {
   "cell_type": "markdown",
   "metadata": {
    "slideshow": {
     "slide_type": "slide"
    }
   },
   "source": [
    "## Подробнее:<br/> падежи\n",
    "\n",
    "# *???Данные про части речи после падежей??? (только склоняемые части речи?)*"
   ]
  },
  {
   "cell_type": "markdown",
   "metadata": {
    "slideshow": {
     "slide_type": "slide"
    }
   },
   "source": [
    "### Какие падежи бывают после наших предлогов?\n",
    "\n",
    "Актуально не для всех частей речи, только для:\n",
    "\n",
    "* существительных, местоимений\n",
    "* прилагательных, причастий"
   ]
  },
  {
   "cell_type": "markdown",
   "metadata": {
    "slideshow": {
     "slide_type": "slide"
    }
   },
   "source": [
    "### Какие падежи бывают после наших предлогов?\n",
    "\n",
    "\n",
    "![boxplot_caseBy_prep=all](graphics/boxplot_caseBy_prep=all.png)"
   ]
  },
  {
   "cell_type": "markdown",
   "metadata": {
    "slideshow": {
     "slide_type": "slide"
    }
   },
   "source": [
    "### Примеры\n",
    "\n",
    "* de - se: \n",
    "\n",
    "    *Palmam Callimachus, Thalia, **de se**  Facundo dedit ipse Bruttiano.*\n",
    "* de - illius:\n",
    "\n",
    "    *regem tandem vel de sua temeritate vel **de illius** ignavia iudicaturum.*\n",
    "* de - vestra:\n",
    "\n",
    "    *praeterea **de vestra** vita, de coniugum vestrarum atque liberorum anima...*\n",
    "* a - me:\n",
    "\n",
    "    *de libris oratoriis factum est **a me** diligenter.*\n",
    "* ab - se (acc):\n",
    "\n",
    "    *Suspiciones omnes **ab se** segreget*"
   ]
  },
  {
   "cell_type": "markdown",
   "metadata": {
    "slideshow": {
     "slide_type": "slide"
    }
   },
   "source": [
    "### Предлоги a, ab\n",
    "\n",
    "![boxplot_caseBy_prep=['a', 'ab']](graphics/boxplot_caseBy_prep=a,ab.png)\n"
   ]
  },
  {
   "cell_type": "markdown",
   "metadata": {},
   "source": [
    "### Примеры\n",
    "\n",
    "* a - me (acc.sg):\n",
    "\n",
    "    *sin alia dices, ea quae **a me** dicta sunt non refutabis.*\n",
    "* ab - hoc (acc.sg):\n",
    "\n",
    "    *Quod quoniam genus **ab hoc** quod proposuimus abhorret, philo- sophos aliud in tempus reiciamus;*\n",
    "* a - testibus (dat.pl):\n",
    "\n",
    "    *nego esse quicquam **a testibus** dictum quod aut vestrum cuipiam esset obscurum aut cuiusquam oratoris eloquentiam quaereret.* "
   ]
  },
  {
   "cell_type": "markdown",
   "metadata": {
    "slideshow": {
     "slide_type": "slide"
    }
   },
   "source": [
    "### Предлоги e, ex\n",
    "\n",
    "![boxplot_caseBy_prep=['e', 'ex']](graphics/boxplot_caseBy_prep=e,ex.png)"
   ]
  },
  {
   "cell_type": "markdown",
   "metadata": {
    "slideshow": {
     "slide_type": "slide"
    }
   },
   "source": [
    "### Примеры\n",
    "\n",
    "* ex - allia (acc.pl):\n",
    "\n",
    "    *Saepe itaque, in promptu corpus quod cernitur, aegret, cum tamen **ex alia** laetamur parte latenti;*\n",
    "\n",
    "* ex - eourm (gen.pl):\n",
    "\n",
    "    *in re p. quid agatur credo a te **ex eorum** litteris cognoscere, qui ad te acta debent perscribere.*"
   ]
  },
  {
   "cell_type": "markdown",
   "metadata": {
    "slideshow": {
     "slide_type": "slide"
    }
   },
   "source": [
    "### Предлог de\n",
    "\n",
    "![boxplot_caseBy_prep=de.png](graphics/boxplot_caseBy_prep=de.png)"
   ]
  },
  {
   "cell_type": "markdown",
   "metadata": {},
   "source": [
    "### Примеры\n",
    "\n",
    "* de - senatus (gen.sg):\n",
    "\n",
    "    *tantum rogat **de senatus** consulto ut corrigas.*\n",
    "* de - senatus (dat.pl):\n",
    "\n",
    "    *tantum rogat **de senatus** consulto ut corrigas.*"
   ]
  },
  {
   "cell_type": "markdown",
   "metadata": {
    "slideshow": {
     "slide_type": "slide"
    }
   },
   "source": [
    "### Предлог cum\n",
    "\n",
    "![boxplot_caseBy_prep=['cum'].png](graphics/boxplot_caseBy_prep=['cum'].png)"
   ]
  },
  {
   "cell_type": "markdown",
   "metadata": {
    "slideshow": {
     "slide_type": "slide"
    }
   },
   "source": [
    "### Примеры\n",
    "\n",
    "* cum - vicini (nom.pl):\n",
    "\n",
    "    *qui **cum vicini** stationem ceperit astri, contiguos nullum transfundit lumen in ortus.*\n",
    "    \n",
    "* cum (acc.sg):\n",
    "\n",
    "    *regia **cum lucem** posuerunt membra, probatum est Hyrcanis adhibere canes.*"
   ]
  },
  {
   "cell_type": "markdown",
   "metadata": {
    "slideshow": {
     "slide_type": "slide"
    }
   },
   "source": [
    "### Предлог sine\n",
    "\n",
    "![boxplot_caseBy_prep=['sine'].png](graphics/boxplot_caseBy_prep=['sine'].png)"
   ]
  },
  {
   "cell_type": "markdown",
   "metadata": {},
   "source": [
    "### Примеры\n",
    "\n",
    "* sine - te (acc.sg):\n",
    "\n",
    "    *uid mihi **sine te** umquam aut tibi sine me iucundum fuit?*\n",
    "\n",
    "* sine - ulla (nom.sg):\n",
    "\n",
    "    *itaque **sine ulla** ignominia suis umeris pecunias populis rettulerunt.*"
   ]
  },
  {
   "cell_type": "markdown",
   "metadata": {
    "slideshow": {
     "slide_type": "slide"
    }
   },
   "source": [
    "### Предлог pro\n",
    "\n",
    "![boxplot_caseBy_prep=['pro'].png](graphics/boxplot_caseBy_prep=['pro'].png)"
   ]
  },
  {
   "cell_type": "markdown",
   "metadata": {
    "slideshow": {
     "slide_type": "slide"
    }
   },
   "source": [
    "### Примеры\n",
    "\n",
    "* pro - filio (dat.sg):\n",
    "\n",
    "    *negarem aliquid filio, cum ille rogaret **pro filio**?*\n",
    "* pro - pudor (nom.sg):\n",
    "\n",
    "    *quis vultus iste, **pro pudor**!*\n",
    "    \n",
    "* pro - deorum (gen.pl):\n",
    "    \n",
    "    *nam quis est, **pro deorum** fidem atque hominum!*"
   ]
  },
  {
   "cell_type": "markdown",
   "metadata": {
    "slideshow": {
     "slide_type": "slide"
    }
   },
   "source": [
    "### Предлог prae\n",
    "\n",
    "![boxplot_caseBy_prep=['prae'].png](graphics/boxplot_caseBy_prep=['prae'].png)"
   ]
  },
  {
   "cell_type": "markdown",
   "metadata": {},
   "source": [
    "### Примеры\n",
    "\n",
    "* prae - quod (acc.sg):\n",
    "\n",
    "    *Immo res omnis relictas habeo **prae quod** tu velis.*\n",
    "    \n",
    "* prae - se (acc.sg):\n",
    "    \n",
    "    *contra corporis sui qualitatem **prae se** maximam speciem ostentare.*"
   ]
  },
  {
   "cell_type": "markdown",
   "metadata": {
    "slideshow": {
     "slide_type": "slide"
    }
   },
   "source": [
    "## По частям речи"
   ]
  },
  {
   "cell_type": "markdown",
   "metadata": {
    "slideshow": {
     "slide_type": "slide"
    }
   },
   "source": [
    "### Существительное\n",
    "\n",
    "![boxplot_pos=noun_case.png](graphics/boxplot_pos=noun_case.png)"
   ]
  },
  {
   "cell_type": "markdown",
   "metadata": {},
   "source": [
    "### Примеры\n",
    "\n",
    "* pro - dicibus (dat.pl):\n",
    "\n",
    "    *a quacumque trahis ratione vocabula, Pallas, **pro ducibus** nostris aegida semper habe.*\n",
    "    \n",
    "* ab - experientia (nom.sg):\n",
    "\n",
    "    *Contra ii, qui se ἐμπειριχούσ **ab experientia** nominant, evidentes quidem causas, ut necessarias, amplectuntur:...*"
   ]
  },
  {
   "cell_type": "markdown",
   "metadata": {
    "slideshow": {
     "slide_type": "slide"
    }
   },
   "source": [
    "### Местоимение\n",
    "![boxplot_pos=pronoun_case.png](graphics/boxplot_pos=pronoun_case.png)"
   ]
  },
  {
   "cell_type": "markdown",
   "metadata": {
    "slideshow": {
     "slide_type": "slide"
    }
   },
   "source": [
    "### Примеры\n",
    "\n",
    "* ab - hoc (acc.sg):\n",
    "\n",
    "    *quod me **ab hoc** maerore recreari vis, facis ut omnia;*\n",
    "    \n",
    "* a - se (acc.sg) :\n",
    "\n",
    "    *eiusdem sortis et Zmyrnae puerum **a se** visum.*"
   ]
  },
  {
   "cell_type": "markdown",
   "metadata": {
    "slideshow": {
     "slide_type": "slide"
    }
   },
   "source": [
    "### Прилагательное\n",
    "![boxplot_pos=adjective_case.png](graphics/boxplot_pos=adjective_case.png)"
   ]
  },
  {
   "cell_type": "markdown",
   "metadata": {
    "slideshow": {
     "slide_type": "slide"
    }
   },
   "source": [
    "### Примеры\n",
    "\n",
    "* a - miseris (dat.pl):\n",
    "\n",
    "    *Exigit **a miseris** tristes victoria poenas, Sibilaque et flammas infert sopor:*\n",
    "    \n",
    "* pro - nota (acc.pl):\n",
    "    \n",
    "    *Quis hic amabo est, qui tam pro nota nominat me?*"
   ]
  },
  {
   "cell_type": "markdown",
   "metadata": {
    "slideshow": {
     "slide_type": "slide"
    }
   },
   "source": [
    "### Причастие\n",
    "![boxplot_pos=participle_case.png](graphics/boxplot_pos=participle_case.png)"
   ]
  },
  {
   "cell_type": "markdown",
   "metadata": {
    "slideshow": {
     "slide_type": "slide"
    }
   },
   "source": [
    "### Примеры\n",
    "\n",
    "* cum - fixum (nom.sg):\n",
    "    \n",
    "    *et bene **cum fixum** mento discusseris uncum, nil erit hoc:*\n",
    "    \n",
    "* a - proposito (dat.sg):\n",
    "    \n",
    "    *ut **a proposito** declinet aliquantum ;*"
   ]
  },
  {
   "cell_type": "markdown",
   "metadata": {
    "slideshow": {
     "slide_type": "slide"
    }
   },
   "source": [
    "## Несклоняемые части речи"
   ]
  },
  {
   "cell_type": "markdown",
   "metadata": {
    "slideshow": {
     "slide_type": "slide"
    }
   },
   "source": [
    "### Несклоняемые части речи\n",
    "\n",
    "Здесь решил просто посмотреть самые частые леммы"
   ]
  },
  {
   "cell_type": "markdown",
   "metadata": {
    "slideshow": {
     "slide_type": "slide"
    }
   },
   "source": [
    "### Наречие\n",
    "\n",
    "![boxplot_lemmaCount_pos=adverb.png](graphics/boxplot_lemmaCount_pos=adverb.png)"
   ]
  },
  {
   "cell_type": "markdown",
   "metadata": {
    "slideshow": {
     "slide_type": "slide"
    }
   },
   "source": [
    "### Наречие\n",
    "\n",
    "* ex - istoc:\n",
    "    \n",
    "    *cave quoquam **ex istoc** excessis loco.*\n",
    "    \n",
    "* de - modo\n",
    "\n",
    "    *etsi nihil scripsit nisi **de modo** agri.*"
   ]
  },
  {
   "cell_type": "markdown",
   "metadata": {
    "slideshow": {
     "slide_type": "slide"
    }
   },
   "source": [
    "### Предлог \n",
    "\n",
    "![boxplot_lemmaCount_pos=preposition.png](graphics/boxplot_lemmaCount_pos=preposition.png)"
   ]
  },
  {
   "cell_type": "markdown",
   "metadata": {},
   "source": [
    "### Примеры\n",
    "\n",
    "* cum - a:\n",
    "\n",
    "    *quem **cum a** se non neget auditum vexat tamen omnibus contumeliis.*\n",
    "    \n",
    "* cum - inter:\n",
    "\n",
    "    *numquam abisset, nisi, **cum inter** homines esset, eam sibi viam  munivisset.*"
   ]
  },
  {
   "cell_type": "markdown",
   "metadata": {
    "slideshow": {
     "slide_type": "slide"
    }
   },
   "source": [
    "### Числительное\n",
    "\n",
    "![boxplot_lemmaCount_pos=numeral.png](graphics/boxplot_lemmaCount_pos=numeral.png)\\"
   ]
  },
  {
   "cell_type": "markdown",
   "metadata": {},
   "source": [
    "### Примеры\n",
    "\n",
    "\n",
    "* ex - duodecim:\n",
    "\n",
    "    *...sicut per Malachiam angelum, unum  **ex duodecim** prophetis, dicit:*\n",
    "* ex - decem:\n",
    "\n",
    "    *Perdiderat  unam **ex decem** drachmis anus illa, et ideo quaerebat:*"
   ]
  },
  {
   "cell_type": "markdown",
   "metadata": {
    "slideshow": {
     "slide_type": "slide"
    }
   },
   "source": [
    "### Союзы\n",
    "\n",
    "![boxplot_lemmaCount_pos=conjunction.png](graphics/boxplot_lemmaCount_pos=conjunction.png)\\"
   ]
  },
  {
   "cell_type": "markdown",
   "metadata": {},
   "source": [
    "### Примеры\n",
    "\n",
    "* cum - et:\n",
    "\n",
    "    *...si quidem celeriter **cum et** alia pecora, tum praecipue oves contagione vexentur.*\n",
    "\n",
    "* a - ut:\n",
    "\n",
    "    *nec Bagaso exultare datum **a ut** impune relictum consulis ante oculos uita spoliasse Libonem.*"
   ]
  },
  {
   "cell_type": "markdown",
   "metadata": {},
   "source": [
    "### Восклицание (междометие*)\n",
    "\n",
    "![boxplot_lemmaCount_pos=exclamation.png](graphics/boxplot_lemmaCount_pos=exclamation.png)\\"
   ]
  },
  {
   "cell_type": "markdown",
   "metadata": {},
   "source": [
    "### Примеры\n",
    "\n",
    "* a - en:\n",
    "\n",
    "    *sudis Latine appellatur , Graece sphyr **a en** a , rostro similis nomini , magni- tudine inter amplissimos;*\n",
    "* de - o:\n",
    "\n",
    "    *cur enim non videantur oracula, a certissimo **de o** maximeque veridico, usu, profecta?*"
   ]
  },
  {
   "cell_type": "markdown",
   "metadata": {
    "slideshow": {
     "slide_type": "slide"
    }
   },
   "source": [
    "### Знаки пунктуации\n",
    "\n",
    "![boxplot_lemmaCount_pos=punctuation.png](graphics/boxplot_lemmaCount_pos=punctuation.png)\\"
   ]
  },
  {
   "cell_type": "markdown",
   "metadata": {},
   "source": [
    "### Примеры\n",
    "\n",
    "* prae -:\n",
    "\n",
    "    *Totidem dicemus semina **prae-**paranda.*\n",
    "    \n",
    "* pro -:\n",
    "    \n",
    "    *incertis hae diebus **pro-** veniunt durantque, sed esse sideris huiusce partum eas certum est.*"
   ]
  },
  {
   "cell_type": "markdown",
   "metadata": {},
   "source": []
  },
  {
   "cell_type": "markdown",
   "metadata": {},
   "source": []
  },
  {
   "cell_type": "markdown",
   "metadata": {},
   "source": []
  },
  {
   "cell_type": "markdown",
   "metadata": {},
   "source": []
  },
  {
   "cell_type": "markdown",
   "metadata": {},
   "source": []
  },
  {
   "cell_type": "markdown",
   "metadata": {},
   "source": []
  },
  {
   "cell_type": "markdown",
   "metadata": {},
   "source": []
  },
  {
   "cell_type": "markdown",
   "metadata": {},
   "source": []
  }
 ],
 "metadata": {
  "kernelspec": {
   "display_name": "Python (cltk)",
   "language": "python",
   "name": "cltk_project"
  },
  "language_info": {
   "codemirror_mode": {
    "name": "ipython",
    "version": 3
   },
   "file_extension": ".py",
   "mimetype": "text/x-python",
   "name": "python",
   "nbconvert_exporter": "python",
   "pygments_lexer": "ipython3",
   "version": "3.7.1"
  }
 },
 "nbformat": 4,
 "nbformat_minor": 4
}
